{
 "cells": [
  {
   "cell_type": "code",
   "execution_count": 35,
   "id": "dc259638",
   "metadata": {},
   "outputs": [],
   "source": [
    "import os\n",
    "import django\n",
    "os.environ.setdefault('DJANGO_SETTINGS_MODULE', 'rest.settings')\n",
    "os.environ[\"DJANGO_ALLOW_ASYNC_UNSAFE\"] = \"true\"\n",
    "django.setup()\n"
   ]
  },
  {
   "cell_type": "code",
   "execution_count": 39,
   "id": "0d956cb6",
   "metadata": {},
   "outputs": [],
   "source": [
    "# Working with forms\n",
    "import datetime\n",
    "\n",
    "from django import forms\n",
    "from django.utils import timezone\n",
    "\n",
    "from apod.forms import APODDate"
   ]
  },
  {
   "cell_type": "code",
   "execution_count": 40,
   "id": "3a8e4cfa",
   "metadata": {},
   "outputs": [],
   "source": [
    "apod_date = APODDate()\n",
    "apod_date.date = datetime.date(2000, 1, 26)"
   ]
  },
  {
   "cell_type": "code",
   "execution_count": 41,
   "id": "c26f648c",
   "metadata": {},
   "outputs": [
    {
     "data": {
      "text/plain": [
       "<APODDate bound=False, valid=Unknown, fields=(date)>"
      ]
     },
     "execution_count": 41,
     "metadata": {},
     "output_type": "execute_result"
    }
   ],
   "source": [
    "apod_date"
   ]
  },
  {
   "cell_type": "code",
   "execution_count": 48,
   "id": "fdb7deca",
   "metadata": {},
   "outputs": [
    {
     "data": {
      "text/plain": [
       "'2021-12-08'"
      ]
     },
     "execution_count": 48,
     "metadata": {},
     "output_type": "execute_result"
    }
   ],
   "source": [
    "str(timezone.now()).split()[0]"
   ]
  },
  {
   "cell_type": "code",
   "execution_count": 47,
   "id": "acdf01d0",
   "metadata": {},
   "outputs": [
    {
     "ename": "AttributeError",
     "evalue": "module 'datetime' has no attribute 'utcnow'",
     "output_type": "error",
     "traceback": [
      "\u001b[0;31m---------------------------------------------------------------------------\u001b[0m",
      "\u001b[0;31mAttributeError\u001b[0m                            Traceback (most recent call last)",
      "\u001b[0;32m/tmp/ipykernel_461679/3983769260.py\u001b[0m in \u001b[0;36m<module>\u001b[0;34m\u001b[0m\n\u001b[0;32m----> 1\u001b[0;31m \u001b[0mdatetime\u001b[0m\u001b[0;34m.\u001b[0m\u001b[0mutcnow\u001b[0m\u001b[0;34m(\u001b[0m\u001b[0;34m)\u001b[0m\u001b[0;34m\u001b[0m\u001b[0;34m\u001b[0m\u001b[0m\n\u001b[0m",
      "\u001b[0;31mAttributeError\u001b[0m: module 'datetime' has no attribute 'utcnow'"
     ]
    }
   ],
   "source": [
    "datetime.datetime.utcnow()"
   ]
  }
 ],
 "metadata": {
  "kernelspec": {
   "display_name": "Django Shell-Plus",
   "language": "python",
   "name": "django_extensions"
  },
  "language_info": {
   "codemirror_mode": {
    "name": "ipython",
    "version": 3
   },
   "file_extension": ".py",
   "mimetype": "text/x-python",
   "name": "python",
   "nbconvert_exporter": "python",
   "pygments_lexer": "ipython3",
   "version": "3.9.9"
  }
 },
 "nbformat": 4,
 "nbformat_minor": 5
}
